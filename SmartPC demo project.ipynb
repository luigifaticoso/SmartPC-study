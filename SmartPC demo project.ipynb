{
  "nbformat": 4,
  "nbformat_minor": 0,
  "metadata": {
    "colab": {
      "name": "Real time project - SmartPC.ipynb",
      "provenance": [],
      "collapsed_sections": []
    },
    "kernelspec": {
      "name": "python3",
      "display_name": "Python 3"
    }
  },
  "cells": [
    {
      "cell_type": "code",
      "metadata": {
        "id": "TMltUeHX3rV-",
        "colab_type": "code",
        "colab": {}
      },
      "source": [
        "from random import randint, randrange, uniform\n",
        "\n",
        "n_devices = 200 #  with different completion times\n",
        "required_devices = 0.8\n",
        "starting_deadline = 1.0\n",
        "nData = 1000\n",
        "devices = []\n",
        "\n",
        "completition_time_model = lambda nCPU,nData,frequency : (nCPU*nData)/frequency\n",
        "id = 0\n",
        "class device:\n",
        "  id = 0\n",
        "  consumedEnergy = 0.0\n",
        "  cpuFrequencyMax = 0.0\n",
        "  optimalFrequency = 0.0\n",
        "  completitionTime = 0.0\n",
        "  nCPU = 0\n",
        "  quality = 0\n",
        "  global_deadline = 0.0\n",
        "  beta = 0.0\n",
        "  power_train = 0.0\n",
        "  power_idle = 0.0\n",
        "  energyMap = {}\n",
        "  EnergyConsumption = 0.0\n",
        "\n",
        "  def __init__(self,quality,id):\n",
        "    self.id = id\n",
        "    self.quality = quality\n",
        "    self.cpuFrequencyMax = round(self.quality/10 + randrange(10,16,5)/100,3)\n",
        "    self.nCPU = randint(1,5)\n",
        "    self.beta = self.quality * randint(1,5) / 10\n",
        "\n",
        "\n",
        "  def set_deadline(self,deadline):\n",
        "    self.global_deadline = deadline\n",
        "  \n",
        "  # \n",
        "  #   Speed Determination\n",
        "  # \n",
        "  def setOptimalCpu(self,nData):\n",
        "    optimalCpuFrequency = round(self.quality/20 + randrange(10,16,5)/100,3)\n",
        "    self.energyMap = {}\n",
        "    while(optimalCpuFrequency < self.cpuFrequencyMax):\n",
        "      time_idle = 0\n",
        "      time_train = 0\n",
        "      self.completitionTime = completition_time_model(self.nCPU,nData,optimalCpuFrequency)\n",
        "      \n",
        "      if(self.completitionTime < self.global_deadline):\n",
        "        self.optimalFrequency = optimalCpuFrequency\n",
        "        self.computeEnergy()\n",
        "        self.energyMap[round(optimalCpuFrequency,3)] = self.EnergyConsumption\n",
        "\n",
        "      optimalCpuFrequency = round(optimalCpuFrequency + 0.1,3)\n",
        "\n",
        "    if(len(self.energyMap) > 0 ):\n",
        "      self.optimalFrequency = min(self.energyMap.items(), key=lambda x: x[1])[0]\n",
        "      self.computeEnergy()\n",
        "      return 1\n",
        "    else:\n",
        "      self.optimalFrequency = self.cpuFrequencyMax\n",
        "      self.computeEnergy()\n",
        "      return 0\n",
        "\n",
        "  # \n",
        "  #   set MAX CPU\n",
        "  # \n",
        "  def setCpu(self,nData):\n",
        "    self.optimalFrequency = self.cpuFrequencyMax\n",
        "    self.computeEnergy()\n",
        "    if(self.completitionTime < self.global_deadline):\n",
        "      return 1\n",
        "    else:\n",
        "      return 0\n",
        "\n",
        "\n",
        "  def computeEnergy(self):\n",
        "      self.completitionTime = completition_time_model(self.nCPU,nData,self.optimalFrequency)\n",
        "      time_idle = self.global_deadline - self.completitionTime\n",
        "      time_train = self.global_deadline - time_idle\n",
        "      self.power_train = round(self.beta * pow(self.optimalFrequency,3),3)\n",
        "      self.power_idle = round(self.power_train * 0.1,3)\n",
        "      self.EnergyConsumption = round(self.power_train * time_train + self.power_idle * time_idle,3)\n",
        "\n",
        "\n",
        "  def printEnergyMap(self):\n",
        "    print(str(self.energyMap))\n",
        "\n",
        "\n",
        "  def __str__(self):\n",
        "    return \"Device ID: \"+str(self.id)+\" - quality [\"+str(self.quality)+ \"]: Frequency MAX: \" + str(self.cpuFrequencyMax) + \" OPTIMAL CPU: \" +  str(self.optimalFrequency) + \" POWER TRAIN: \"+ str(self.power_train) + \" POWER IDLE: \"+ str(self.power_idle) \n",
        "  #Local Pace Control\n",
        "\n",
        "\n",
        "\n",
        "\n",
        "  \n",
        "# minimum completition time will be with frequency to the maximum value\n",
        "# without considering foreground apps\n",
        "# if we want to consider foreground apps we need to use the completition time prediction formula\n",
        "\n",
        "\n",
        "def deadline_determination(devices,nData, required_devices,starting_deadline):\n",
        "  #here we need to find the minimun deadline to satisfy the deadline minimization\n",
        "  completitionTimes = []\n",
        "  for device in devices:\n",
        "    completitionTimes.append(completition_time_model(device.nCPU,nData,device.cpuFrequencyMax))\n",
        "    indicatorArr = []\n",
        "    for time in completitionTimes:\n",
        "      if time < starting_deadline:\n",
        "        indicatorArr.append(1)\n",
        "      else:\n",
        "        indicatorArr.append(0)\n",
        "  \n",
        "  while(sum(indicatorArr)/n_devices <= len(devices)*required_devices):\n",
        "    starting_deadline+=1.0 #di quanto aumentare la deadline ad ogni ciclo\n",
        "    for time in completitionTimes:\n",
        "      if time < starting_deadline:\n",
        "        indicatorArr.append(1)\n",
        "      else:\n",
        "        indicatorArr.append(0)\n",
        "  return starting_deadline"
      ],
      "execution_count": 0,
      "outputs": []
    },
    {
      "cell_type": "code",
      "metadata": {
        "id": "-r4xWUYSQZV4",
        "colab_type": "code",
        "outputId": "453015fe-e969-4fef-fab8-e6b5f149ae29",
        "colab": {
          "base_uri": "https://localhost:8080/",
          "height": 391
        }
      },
      "source": [
        "pDevice = 0.5 # Higher means there will be more High-end devices\n",
        "\n",
        "for i in range(n_devices):\n",
        "  if(uniform(0,1) < pDevice):\n",
        "    devices.append(device(randint(8,15),i))\n",
        "  else:\n",
        "    devices.append(device(randint(1,8),i)) \n",
        "\n",
        "deadlines = []\n",
        "n_devices_whomadeit = []\n",
        "devices_ok = [] \n",
        "deadline_SP = 0\n",
        "deadline_classic = 0\n",
        "global_deadline = deadline_determination(devices,nData,required_devices,starting_deadline)\n",
        "print(\"Global deadline based on all the devices is: \" + str(global_deadline))\n",
        "deadlines.append(global_deadline)\n",
        "\n",
        "iteration = 0\n",
        "for i in devices:\n",
        "  # print(i)\n",
        "  i.set_deadline(global_deadline)\n",
        "  devices_ok.append(i.setOptimalCpu(nData))\n",
        "\n",
        "print(\"For the virtual deadline Devices who can make it: \"+str(devices_ok.count(1)) + \" VS who can't: \" +str(devices_ok.count(0)) )\n",
        "print(\"Percentage is: \"+str(round(devices_ok.count(1)*100/len(devices_ok),2)) + \"% \" )\n",
        "n_devices_whomadeit.append(devices_ok.count(1))\n",
        "while(devices_ok.count(1) < required_devices * n_devices):\n",
        "  iteration +=1\n",
        "  devices_ok = []\n",
        "  # Recalculate new deadline for next round a bit larger based on old deadline so to avoid useless computation\n",
        "  global_deadline = deadline_determination(devices,nData,required_devices,global_deadline)\n",
        "  for i in devices:\n",
        "    # print(i)\n",
        "    i.set_deadline(global_deadline)\n",
        "    devices_ok.append(i.setOptimalCpu(nData))\n",
        "  print(\"Devices who can make it after \"+str(iteration)+\" iteration : \"+str(devices_ok.count(1)) + \" VS who still can't: \" +str(devices_ok.count(0)) )\n",
        "  deadlines.append(global_deadline)\n",
        "  n_devices_whomadeit.append(devices_ok.count(1))\n",
        "# print(\"Final deadline to obtain \"+str(required_devices*100)+\"% of devices into the model computation:\"+str(global_deadline))\n",
        "print(\"Percentage is: \"+str(round(devices_ok.count(1)*100/len(devices_ok),2)) + \"% \" )\n",
        "deadline_SP = global_deadline"
      ],
      "execution_count": 38,
      "outputs": [
        {
          "output_type": "stream",
          "text": [
            "Global deadline based on all the devices is: 1919.0\n",
            "For the virtual deadline Devices who can make it: 42 VS who can't: 158\n",
            "Percentage is: 21.0% \n",
            "Devices who can make it after 1 iteration : 60 VS who still can't: 140\n",
            "Devices who can make it after 2 iteration : 76 VS who still can't: 124\n",
            "Devices who can make it after 3 iteration : 85 VS who still can't: 115\n",
            "Devices who can make it after 4 iteration : 98 VS who still can't: 102\n",
            "Devices who can make it after 5 iteration : 108 VS who still can't: 92\n",
            "Devices who can make it after 6 iteration : 122 VS who still can't: 78\n",
            "Devices who can make it after 7 iteration : 123 VS who still can't: 77\n",
            "Devices who can make it after 8 iteration : 130 VS who still can't: 70\n",
            "Devices who can make it after 9 iteration : 140 VS who still can't: 60\n",
            "Devices who can make it after 10 iteration : 143 VS who still can't: 57\n",
            "Devices who can make it after 11 iteration : 147 VS who still can't: 53\n",
            "Devices who can make it after 12 iteration : 150 VS who still can't: 50\n",
            "Devices who can make it after 13 iteration : 154 VS who still can't: 46\n",
            "Devices who can make it after 14 iteration : 155 VS who still can't: 45\n",
            "Devices who can make it after 15 iteration : 154 VS who still can't: 46\n",
            "Devices who can make it after 16 iteration : 155 VS who still can't: 45\n",
            "Devices who can make it after 17 iteration : 155 VS who still can't: 45\n",
            "Devices who can make it after 18 iteration : 155 VS who still can't: 45\n",
            "Devices who can make it after 19 iteration : 161 VS who still can't: 39\n",
            "Percentage is: 80.5% \n"
          ],
          "name": "stdout"
        }
      ]
    },
    {
      "cell_type": "code",
      "metadata": {
        "id": "Wv84xGSjVu2x",
        "colab_type": "code",
        "outputId": "3e6407bf-03c8-4e5f-d6d9-ac797617e7f6",
        "colab": {
          "base_uri": "https://localhost:8080/",
          "height": 66
        }
      },
      "source": [
        "optimalChoisesDelta = []\n",
        "optimalCpu = []\n",
        "batteryUsage = []\n",
        "avgEnergy = []\n",
        "for i in devices:\n",
        "  optimalChoisesDelta.append(i.cpuFrequencyMax-i.optimalFrequency)\n",
        "  optimalCpu.append(i.optimalFrequency)\n",
        "  batteryUsage.append(i.EnergyConsumption)\n",
        "print(\"avg Delta is: \" +  str( round(sum(optimalChoisesDelta)/len(optimalChoisesDelta),2) ))\n",
        "print(\"avg CPU is: \" +  str( round(sum(optimalCpu)/len(optimalCpu),2))) \n",
        "avgEnergy.append(round(sum(batteryUsage)/len(batteryUsage),2))\n",
        "print(\"avg Energy Consumption is: \" +  str( avgEnergy[0]) )"
      ],
      "execution_count": 39,
      "outputs": [
        {
          "output_type": "stream",
          "text": [
            "avg Delta is: 0.34\n",
            "avg CPU is: 0.57\n",
            "avg Energy Consumption is: 3533.79\n"
          ],
          "name": "stdout"
        }
      ]
    },
    {
      "cell_type": "code",
      "metadata": {
        "id": "QyK7nb-wpdG4",
        "colab_type": "code",
        "outputId": "5a39a0c7-1ce6-49f6-c432-1b8ee3b13106",
        "colab": {
          "base_uri": "https://localhost:8080/",
          "height": 33
        }
      },
      "source": [
        "n_devices_whomadeit = []\n",
        "devices_ok = []\n",
        "iteration = 0\n",
        "required_devices = 1.0\n",
        "for i in devices:\n",
        "  # print(i)\n",
        "  i.set_deadline(global_deadline)\n",
        "  devices_ok.append(i.setCpu(nData))\n",
        "\n",
        "n_devices_whomadeit.append(devices_ok.count(1))\n",
        "while(devices_ok.count(1) < required_devices * n_devices):\n",
        "  iteration +=1\n",
        "  devices_ok = []\n",
        "  # Recalculate new deadline for next round a bit larger based on old deadline so to avoid useless computation\n",
        "  global_deadline = deadline_determination(devices,nData,required_devices,global_deadline)\n",
        "  for i in devices:\n",
        "    # print(i)\n",
        "    i.set_deadline(global_deadline)\n",
        "    devices_ok.append(i.setCpu(nData))\n",
        "  # print(\"Devices who can make it after \"+str(iteration)+\" iteration : \"+str(devices_ok.count(1)) + \" VS who still can't: \" +str(devices_ok.count(0)) + \" DEADLINE: \"+ str(round(global_deadline,2))  )\n",
        "  deadlines.append(global_deadline)\n",
        "  n_devices_whomadeit.append(devices_ok.count(1))\n",
        "print(\"Final deadline to obtain \"+str(required_devices*100)+\"% of devices into the model computation:\"+str(global_deadline))\n",
        "deadline_classic = global_deadline"
      ],
      "execution_count": 40,
      "outputs": [
        {
          "output_type": "stream",
          "text": [
            "Final deadline to obtain 100.0% of devices into the model computation:20196.0\n"
          ],
          "name": "stdout"
        }
      ]
    },
    {
      "cell_type": "code",
      "metadata": {
        "id": "LkqMnJQYO6N5",
        "colab_type": "code",
        "outputId": "649886f4-94e2-487e-fa79-23fae813b3db",
        "colab": {
          "base_uri": "https://localhost:8080/",
          "height": 50
        }
      },
      "source": [
        "optimalChoisesDelta = []\n",
        "optimalCpu = []\n",
        "batteryUsage = []\n",
        "for i in devices:\n",
        "  optimalChoisesDelta.append(i.cpuFrequencyMax-i.optimalFrequency)\n",
        "  optimalCpu.append(i.optimalFrequency)\n",
        "  batteryUsage.append(i.EnergyConsumption)\n",
        "print(\"avg CPU is: \" +  str( round(sum(optimalCpu)/len(optimalCpu),2))) \n",
        "avgEnergy.append(round(sum(batteryUsage)/len(batteryUsage),2))\n",
        "print(\"avg Energy Consumption is: \" +  str( avgEnergy[1]) )"
      ],
      "execution_count": 41,
      "outputs": [
        {
          "output_type": "stream",
          "text": [
            "avg CPU is: 0.92\n",
            "avg Energy Consumption is: 16722.98\n"
          ],
          "name": "stdout"
        }
      ]
    },
    {
      "cell_type": "code",
      "metadata": {
        "id": "uKpxF7WsP06S",
        "colab_type": "code",
        "outputId": "1a655123-2aa2-4936-ab6a-d812ef2d18f7",
        "colab": {
          "base_uri": "https://localhost:8080/",
          "height": 131
        }
      },
      "source": [
        "print(\"SMART PC AVG ENERGY CONSUMPTION:\" + str(round(avgEnergy[0],2)) )\n",
        "print(\"CLASSIC APPROACH AVG ENERGY CONSUMPTION:\" + str(round(avgEnergy[1],2)))\n",
        "print(\"SMARTPC performs \"+str(round(100*avgEnergy[0]/(avgEnergy[1]),2)) +\"% better than classical approach\")\n",
        "print(\"#############################################################################################################\")\n",
        "print(\"SMART PC DEADLINE:\" + str(round(deadline_SP,2)) )\n",
        "print(\"CLASSIC APPROACH DEADLINE:\" + str(round(deadline_classic,2)))\n",
        "print(\"SMARTPC performs \"+str(round(100*deadline_SP/deadline_classic,2))  +\"% better than classical approach\")\n"
      ],
      "execution_count": 42,
      "outputs": [
        {
          "output_type": "stream",
          "text": [
            "SMART PC AVG ENERGY CONSUMPTION:3533.79\n",
            "CLASSIC APPROACH AVG ENERGY CONSUMPTION:16722.98\n",
            "SMARTPC performs 21.13% better than classical approach\n",
            "#############################################################################################################\n",
            "SMART PC DEADLINE:6768.0\n",
            "CLASSIC APPROACH DEADLINE:20196.0\n",
            "SMARTPC performs 33.51% better than classical approach\n"
          ],
          "name": "stdout"
        }
      ]
    }
  ]
}